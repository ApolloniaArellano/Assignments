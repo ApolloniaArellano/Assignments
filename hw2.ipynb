{
 "cells": [
  {
   "cell_type": "markdown",
   "metadata": {},
   "source": [
    "# Assignment: Basic Python\n",
    "\n",
    "This assignment will verify that you have the following skills:\n",
    "- Create lists and dictionaries\n",
    "- Iterate through lists, tuples, and dictionaries\n",
    "- Index sequences (e.g. lists and tuples)\n",
    "- Define functions\n",
    "- Use optional keyword arguments in functions\n",
    "```"
   ]
  },
  {
   "cell_type": "markdown",
   "metadata": {},
   "source": [
    "## Part I: Lists and Loops\n",
    "\n",
    "In this problem, we will explore the basic data structures and flow controls of Python by _manually creating data structures_.\n",
    "\n",
    "\n",
    "```{warning}\n",
    "Pluto is [not a planet any more](https://www.loc.gov/everyday-mysteries/item/why-is-pluto-no-longer-a-planet/).\n",
    "```"
   ]
  },
  {
   "cell_type": "markdown",
   "metadata": {},
   "source": [
    "### 1) Create a list with the names of every planet in the solar system (in order)"
   ]
  },
  {
   "cell_type": "code",
   "execution_count": 9,
   "metadata": {},
   "outputs": [
    {
     "name": "stdout",
     "output_type": "stream",
     "text": [
      "['Mercury', 'Venus', 'Earth', 'Mars', 'Jupiter', 'Saturn', 'Uranus', 'Neptune']\n"
     ]
    },
    {
     "data": {
      "text/plain": [
       "list"
      ]
     },
     "execution_count": 9,
     "metadata": {},
     "output_type": "execute_result"
    }
   ],
   "source": [
    "l = ['Mercury', 'Venus', 'Earth', 'Mars', 'Jupiter', 'Saturn', 'Uranus', 'Neptune']\n",
    "print(l)\n",
    "type(l)"
   ]
  },
  {
   "cell_type": "markdown",
   "metadata": {
    "tags": []
   },
   "source": [
    "### 2) Have Python tell you how many planets there are by examining your list"
   ]
  },
  {
   "cell_type": "code",
   "execution_count": 10,
   "metadata": {},
   "outputs": [
    {
     "data": {
      "text/plain": [
       "8"
      ]
     },
     "execution_count": 10,
     "metadata": {},
     "output_type": "execute_result"
    }
   ],
   "source": [
    "len(l)"
   ]
  },
  {
   "cell_type": "markdown",
   "metadata": {},
   "source": [
    "### 3) Use slicing to display the first four planets (the rocky planets)"
   ]
  },
  {
   "cell_type": "code",
   "execution_count": 15,
   "metadata": {},
   "outputs": [
    {
     "name": "stdout",
     "output_type": "stream",
     "text": [
      "['Mercury', 'Venus', 'Earth', 'Mars']\n"
     ]
    }
   ],
   "source": [
    "print(l[0:4])"
   ]
  },
  {
   "cell_type": "markdown",
   "metadata": {},
   "source": [
    "### 4) Iterate through your planets and print the planet name only if it has an `s` at the end"
   ]
  },
  {
   "cell_type": "code",
   "execution_count": 24,
   "metadata": {},
   "outputs": [
    {
     "name": "stdout",
     "output_type": "stream",
     "text": [
      "Venus\n",
      "Mars\n",
      "Uranus\n"
     ]
    }
   ],
   "source": [
    "for i in range(len(l)):\n",
    "    p = l[i]\n",
    "    if p[-1] == 's':\n",
    "        print(p)"
   ]
  },
  {
   "cell_type": "markdown",
   "metadata": {},
   "source": [
    "## Part II: Dictionaries\n",
    "\n",
    "### 1) Now create a dictionary that maps each planet name to its mass\n",
    "\n",
    "You can use values from this [NASA fact sheet](https://nssdc.gsfc.nasa.gov/planetary/factsheet/).\n",
    "You can use whatever units you want, but be consistent."
   ]
  },
  {
   "cell_type": "code",
   "execution_count": 27,
   "metadata": {},
   "outputs": [],
   "source": [
    "# mass listed in units of 10^24kg\n",
    "pm = {'Mercury': 0.33, 'Venus': 4.87, 'Earth': 5.97, 'Mars': 0.642, 'Jupiter': 1898, 'Saturn': 568, 'Uranus': 86.8, 'Neptune': 102}"
   ]
  },
  {
   "cell_type": "markdown",
   "metadata": {},
   "source": [
    "### 2) Use your dictionary to look up Earth's mass"
   ]
  },
  {
   "cell_type": "code",
   "execution_count": 29,
   "metadata": {},
   "outputs": [
    {
     "name": "stdout",
     "output_type": "stream",
     "text": [
      "5.97\n"
     ]
    }
   ],
   "source": [
    "earth_mass = pm['Earth']\n",
    "print(earth_mass)"
   ]
  },
  {
   "cell_type": "markdown",
   "metadata": {
    "tags": []
   },
   "source": [
    "### 3) Loop through the data and create a list of planets whose mast is greater than 100 x 10^24 kg \n",
    "\n",
    "Display your result"
   ]
  },
  {
   "cell_type": "code",
   "execution_count": 45,
   "metadata": {},
   "outputs": [
    {
     "name": "stdout",
     "output_type": "stream",
     "text": [
      "Jupiter\n",
      "Saturn\n",
      "Neptune\n"
     ]
    }
   ],
   "source": [
    "for i in pm:\n",
    "    if (pm[i]) > 100:\n",
    "        print(i)"
   ]
  },
  {
   "cell_type": "markdown",
   "metadata": {},
   "source": [
    "### 4) Now add pluto to your dictionary"
   ]
  },
  {
   "cell_type": "code",
   "execution_count": 55,
   "metadata": {},
   "outputs": [
    {
     "data": {
      "text/plain": [
       "{'Mercury': 0.33,\n",
       " 'Venus': 4.87,\n",
       " 'Earth': 5.97,\n",
       " 'Mars': 0.642,\n",
       " 'Jupiter': 1898,\n",
       " 'Saturn': 568,\n",
       " 'Uranus': 86.8,\n",
       " 'Neptune': 102,\n",
       " 'Pluto': 0.013}"
      ]
     },
     "execution_count": 55,
     "metadata": {},
     "output_type": "execute_result"
    }
   ],
   "source": [
    "pm['Pluto'] = 0.013\n",
    "pm"
   ]
  },
  {
   "cell_type": "markdown",
   "metadata": {},
   "source": [
    "## Part III: Functions\n",
    "\n",
    "### 1. Write a function to convert temperature from kelvin to celsius and celsius to kelvin"
   ]
  },
  {
   "cell_type": "code",
   "execution_count": 103,
   "metadata": {},
   "outputs": [],
   "source": [
    "def temp_kc(temp, unit):\n",
    "    if unit == 'K': #or 'k' or 'Kelvin' or 'kelvin':\n",
    "        new_temp = temp - 273.15\n",
    "    if unit == 'C': #or 'c' or 'Celsius' or 'celsius':\n",
    "        new_temp = temp + 273.15\n",
    "    return new_temp"
   ]
  },
  {
   "cell_type": "code",
   "execution_count": 107,
   "metadata": {},
   "outputs": [
    {
     "data": {
      "text/plain": [
       "293.15"
      ]
     },
     "execution_count": 107,
     "metadata": {},
     "output_type": "execute_result"
    }
   ],
   "source": [
    "# test function\n",
    "temp_kc(20, 'C')\n",
    "temp_kc(20, 'K')"
   ]
  },
  {
   "cell_type": "markdown",
   "metadata": {
    "tags": []
   },
   "source": [
    "### 2. Write a function to convert temperature to fahrenheit\n",
    "\n",
    "Include an optional keyword argument to specify whether the input is in  celcius or kelvin.\n",
    "Call your previously defined functions if necessary."
   ]
  },
  {
   "cell_type": "code",
   "execution_count": 110,
   "metadata": {},
   "outputs": [],
   "source": [
    "def temp_f(temp, unit):\n",
    "    if unit == 'K': #or 'k' or 'Kelvin' or 'kelvin':\n",
    "        new_temp = (temp - 273.15)*(9/5)+32\n",
    "    if unit == 'C': #or 'c' or 'Celsius' or 'celsius':\n",
    "        new_temp = temp*(9/5)+32\n",
    "    return new_temp"
   ]
  },
  {
   "cell_type": "markdown",
   "metadata": {},
   "source": [
    "### 3) Check that the outputs are sensible by trying a few examples"
   ]
  },
  {
   "cell_type": "code",
   "execution_count": 111,
   "metadata": {},
   "outputs": [
    {
     "data": {
      "text/plain": [
       "68.0"
      ]
     },
     "execution_count": 111,
     "metadata": {},
     "output_type": "execute_result"
    }
   ],
   "source": [
    "# test function\n",
    "temp_f(20, 'K')\n",
    "temp_f(20, 'C')"
   ]
  },
  {
   "cell_type": "markdown",
   "metadata": {},
   "source": [
    "### 4) Now write a function that converts _from_ farenheit and uses a keyword argument to specify whether you want the output in celcius or kelvin"
   ]
  },
  {
   "cell_type": "code",
   "execution_count": 112,
   "metadata": {},
   "outputs": [],
   "source": [
    "def temp_f2kc(temp, unit):\n",
    "    if unit == 'K': #or 'k' or 'Kelvin' or 'kelvin':\n",
    "        new_temp = (temp-32)*(5/9)+273.15\n",
    "    if unit == 'C': #or 'c' or 'Celsius' or 'celsius':\n",
    "        new_temp = (temp-32)*(5/9)\n",
    "    return new_temp"
   ]
  },
  {
   "cell_type": "code",
   "execution_count": 114,
   "metadata": {},
   "outputs": [
    {
     "data": {
      "text/plain": [
       "-6.666666666666667"
      ]
     },
     "execution_count": 114,
     "metadata": {},
     "output_type": "execute_result"
    }
   ],
   "source": [
    "# test function\n",
    "temp_f2kc(20, 'K')\n",
    "temp_f2kc(20, 'C')"
   ]
  },
  {
   "cell_type": "markdown",
   "metadata": {},
   "source": [
    "### 5) Write a function that takes two arguments (feet and inches) and returns height in meters\n",
    "\n",
    "Verify it gives sensible answers"
   ]
  },
  {
   "cell_type": "code",
   "execution_count": 117,
   "metadata": {},
   "outputs": [],
   "source": [
    "def imp2met(feet, inches):\n",
    "    f2i = feet * 12\n",
    "    i_total = f2i + inches\n",
    "    i2m = i_total/39.37\n",
    "    return i2m"
   ]
  },
  {
   "cell_type": "code",
   "execution_count": 119,
   "metadata": {},
   "outputs": [
    {
     "data": {
      "text/plain": [
       "1.8288036576073152"
      ]
     },
     "execution_count": 119,
     "metadata": {},
     "output_type": "execute_result"
    }
   ],
   "source": [
    "# test function\n",
    "imp2met(5, 12)"
   ]
  },
  {
   "cell_type": "markdown",
   "metadata": {},
   "source": [
    "### 6. Write a function takes one argument (height in meters) and returns two arguments (feet and inches)\n",
    "\n",
    "(Consult the [tutorial on numbers](https://docs.python.org/3/tutorial/introduction.html#numbers) if you are stuck on how to implement this.)"
   ]
  },
  {
   "cell_type": "code",
   "execution_count": 121,
   "metadata": {},
   "outputs": [
    {
     "data": {
      "text/plain": [
       "0.5"
      ]
     },
     "execution_count": 121,
     "metadata": {},
     "output_type": "execute_result"
    }
   ],
   "source": [
    "import math\n",
    "frac, whole = math.modf(2.5)\n",
    "frac\n",
    "whole"
   ]
  },
  {
   "cell_type": "code",
   "execution_count": 122,
   "metadata": {},
   "outputs": [],
   "source": [
    "import math\n",
    "def met2imp(meters):\n",
    "    i = meters * 39.37\n",
    "    f = i/12\n",
    "    frac, whole = math.modf(f)\n",
    "    new_i = frac * 12\n",
    "    new_f = whole\n",
    "    print(new_f,'feet',',', new_i, 'inches')"
   ]
  },
  {
   "cell_type": "markdown",
   "metadata": {
    "tags": []
   },
   "source": [
    "### 7) Verify that the \"round trip\" conversion from and back to meters is consistent \n",
    "\n",
    "Check for 3 different values of height in meters"
   ]
  },
  {
   "cell_type": "code",
   "execution_count": 125,
   "metadata": {},
   "outputs": [
    {
     "name": "stdout",
     "output_type": "stream",
     "text": [
      "3.0 feet , 3.369999999999999 inches\n",
      "16.0 feet , 4.84999999999998 inches\n",
      "98.0 feet , 5.099999999999966 inches\n"
     ]
    }
   ],
   "source": [
    "# test function\n",
    "met2imp(1)\n",
    "met2imp(5)\n",
    "met2imp(30)"
   ]
  },
  {
   "cell_type": "code",
   "execution_count": 130,
   "metadata": {},
   "outputs": [
    {
     "data": {
      "text/plain": [
       "30.0"
      ]
     },
     "execution_count": 130,
     "metadata": {},
     "output_type": "execute_result"
    }
   ],
   "source": [
    "# test \"round trip\"\n",
    "imp2met(3, 3.369999999999999)\n",
    "imp2met(16, 4.84999999999998)\n",
    "imp2met(98, 5.099999999999966)"
   ]
  },
  {
   "cell_type": "code",
   "execution_count": null,
   "metadata": {},
   "outputs": [],
   "source": []
  }
 ],
 "metadata": {
  "kernelspec": {
   "display_name": "Python 3 (ipykernel)",
   "language": "python",
   "name": "python3"
  },
  "language_info": {
   "codemirror_mode": {
    "name": "ipython",
    "version": 3
   },
   "file_extension": ".py",
   "mimetype": "text/x-python",
   "name": "python",
   "nbconvert_exporter": "python",
   "pygments_lexer": "ipython3",
   "version": "3.11.7"
  }
 },
 "nbformat": 4,
 "nbformat_minor": 4
}
